{
 "cells": [
  {
   "cell_type": "code",
   "execution_count": 1,
   "id": "1c030303",
   "metadata": {},
   "outputs": [],
   "source": [
    "import cv2\n",
    "import numpy as np\n",
    "import matplotlib.pyplot as plt"
   ]
  },
  {
   "cell_type": "raw",
   "id": "eee602de",
   "metadata": {},
   "source": [
    "black_pth = r\"C:\\Users\\kesha\\Downloads\\Color-Classifiation-main\\Color-Classifiation-main\\colors\\Black\"\n",
    "red_path = r\"C:\\Users\\kesha\\Downloads\\Color-Classifiation-main\\Color-Classifiation-main\\colors\\red\"\n",
    "test_path = r\"C:\\Users\\kesha\\Downloads\\Color-Classifiation-main\\Color-Classifiation-main\\colors\\test\"\n",
    "violet_path = r\"C:\\Users\\kesha\\Downloads\\Color-Classifiation-main\\Color-Classifiation-main\\colors\\Violet\"\n",
    "\n",
    "from glob import glob\n",
    "\n",
    "red_images = glob(red_path+'/*')\n",
    "\n",
    "\n",
    "\n",
    "\n",
    "img = cv2.imread(red_images[0])\n",
    "\n",
    "hsv_img = cv2.cvtColor(img,cv2.COLOR_BGR2HSV)\n",
    "\n",
    "cv2.imshow('FRAME',hsv_img)\n",
    "cv2.waitKey(0)"
   ]
  },
  {
   "cell_type": "raw",
   "id": "301ab01c",
   "metadata": {},
   "source": [
    "def getHSV(rgb):\n",
    "    import colorsys\n",
    "    (r, g, b) = rgb[0],rgb[1],rgb[2]\n",
    "    (r, g, b) = (r / 255, g / 255, b / 255)\n",
    "\n",
    "    # Convert to hsv\n",
    "    (h, s, v) = colorsys.rgb_to_hsv(r, g, b)\n",
    "\n",
    "    # Expand HSV range\n",
    "    (h, s, v) = (int(h * 179), int(s * 255), int(v * 255))\n",
    "    return np.array([h,s,v], dtype = \"uint8\")"
   ]
  },
  {
   "cell_type": "raw",
   "id": "41ea3b85",
   "metadata": {},
   "source": [
    "lower_red =np.array([154 ,  0, 106],dtype = \"uint8\")\n",
    "upper_red =np.array([179 ,  255,  255],dtype = \"uint8\")"
   ]
  },
  {
   "cell_type": "raw",
   "id": "06869d00",
   "metadata": {},
   "source": [
    "lower_red# = getHSV([0 , 0 , 119])#np.array([0 , 0 , 119], dtype = \"uint8\")\n",
    "# upper_red = getHSV([0 , 0,255]) #np.array([0 , 0,255], dtype = \"uint8\")\n",
    "# (154 ,  0, 106), ( 179 ,  255,  255)"
   ]
  },
  {
   "cell_type": "raw",
   "id": "b95c1431",
   "metadata": {},
   "source": [
    "mask = cv2.inRange(hsv_img, lower_red, upper_red)\n",
    "detected_output = cv2.bitwise_and(img,img, mask = mask)\n",
    "cv2.imshow(\"red color detection\", detected_output)\n",
    "cv2.waitKey(0)"
   ]
  },
  {
   "cell_type": "code",
   "execution_count": null,
   "id": "843fc5c3",
   "metadata": {},
   "outputs": [],
   "source": []
  },
  {
   "cell_type": "code",
   "execution_count": null,
   "id": "4b5b09e7",
   "metadata": {},
   "outputs": [],
   "source": []
  },
  {
   "cell_type": "code",
   "execution_count": null,
   "id": "7f45b8e9",
   "metadata": {},
   "outputs": [
    {
     "name": "stderr",
     "output_type": "stream",
     "text": [
      "2024-02-15 18:18:41.789 python3.10[60802:2635051] WARNING: AVCaptureDeviceTypeExternal is deprecated for Continuity Cameras. Please use AVCaptureDeviceTypeContinuityCamera and add NSCameraUseContinuityCameraDeviceType to your Info.plist.\n"
     ]
    }
   ],
   "source": [
    "import cv2\n",
    "import sys\n",
    "import numpy as np\n",
    "\n",
    "def nothing(x):\n",
    "    pass\n",
    "\n",
    "\n",
    "cv2.namedWindow('image')\n",
    "\n",
    "# create trackbars for color change\n",
    "cv2.createTrackbar('HMin','image',0,179,nothing) \n",
    "cv2.createTrackbar('SMin','image',0,255,nothing)\n",
    "cv2.createTrackbar('VMin','image',0,255,nothing)\n",
    "cv2.createTrackbar('HMax','image',0,179,nothing)\n",
    "cv2.createTrackbar('SMax','image',0,255,nothing)\n",
    "cv2.createTrackbar('VMax','image',0,255,nothing)\n",
    "\n",
    "# Set default value for MAX HSV trackbars.\n",
    "cv2.setTrackbarPos('HMax', 'image', 179)\n",
    "cv2.setTrackbarPos('SMax', 'image', 255)\n",
    "cv2.setTrackbarPos('VMax', 'image', 255)\n",
    "\n",
    "#\n",
    "hMin = sMin = vMin = hMax = sMax = vMax = 0\n",
    "phMin = psMin = pvMin = phMax = psMax = pvMax = 0\n",
    "\n",
    "\n",
    "wait_time = 33\n",
    "cap = cv2.VideoCapture(0)\n",
    "while(cap.isOpened()):\n",
    "    \n",
    "    ret,frame = cap.read()\n",
    "    frame =cv2.flip(frame,1)\n",
    "    image  = frame\n",
    "    # get current positions of all trackbars\n",
    "    hMin = cv2.getTrackbarPos('HMin','image')\n",
    "    sMin = cv2.getTrackbarPos('SMin','image')\n",
    "    vMin = cv2.getTrackbarPos('VMin','image')\n",
    "\n",
    "    hMax = cv2.getTrackbarPos('HMax','image')\n",
    "    sMax = cv2.getTrackbarPos('SMax','image')\n",
    "    vMax = cv2.getTrackbarPos('VMax','image')\n",
    "\n",
    "    # Set minimum and max HSV values to display\n",
    "    lower = np.array([hMin, sMin, vMin])\n",
    "    upper = np.array([hMax, sMax, vMax])\n",
    "\n",
    "    # Create HSV Image and threshold into a range.\n",
    "    hsv = cv2.cvtColor(image, cv2.COLOR_BGR2HSV)\n",
    "    mask = cv2.inRange(hsv, lower, upper)\n",
    "    output = cv2.bitwise_and(image,image, mask= mask)\n",
    "\n",
    "    # Print if there is a change in HSV value\n",
    "    if( (phMin != hMin) | (psMin != sMin) | (pvMin != vMin) | (phMax != hMax) | (psMax != sMax) | (pvMax != vMax) ):\n",
    "#         print(\"(hMin = %d , sMin = %d, vMin = %d), (hMax = %d , sMax = %d, vMax = %d)\" % (hMin , sMin , vMin, hMax, sMax , vMax))\n",
    "        phMin = hMin\n",
    "        psMin = sMin\n",
    "        pvMin = vMin\n",
    "        phMax = hMax\n",
    "        psMax = sMax\n",
    "        pvMax = vMax\n",
    "\n",
    "    # Display output image\n",
    "    cv2.imshow('image',output)\n",
    "    cv2.imshow('image2',frame)\n",
    "    # Wait longer to prevent freeze for videos.\n",
    "    if cv2.waitKey(wait_time) & 0xFF == ord('q'):\n",
    "        break\n",
    "cap.release()\n",
    "cv2.destroyAllWindows()\n"
   ]
  },
  {
   "cell_type": "code",
   "execution_count": null,
   "id": "7f2445b4",
   "metadata": {},
   "outputs": [],
   "source": []
  },
  {
   "cell_type": "code",
   "execution_count": null,
   "id": "482f5bc9",
   "metadata": {},
   "outputs": [],
   "source": []
  },
  {
   "cell_type": "code",
   "execution_count": null,
   "id": "8c574b1f",
   "metadata": {},
   "outputs": [],
   "source": []
  }
 ],
 "metadata": {
  "kernelspec": {
   "display_name": "Python 3 (ipykernel)",
   "language": "python",
   "name": "python3"
  },
  "language_info": {
   "codemirror_mode": {
    "name": "ipython",
    "version": 3
   },
   "file_extension": ".py",
   "mimetype": "text/x-python",
   "name": "python",
   "nbconvert_exporter": "python",
   "pygments_lexer": "ipython3",
   "version": "3.10.2"
  }
 },
 "nbformat": 4,
 "nbformat_minor": 5
}
