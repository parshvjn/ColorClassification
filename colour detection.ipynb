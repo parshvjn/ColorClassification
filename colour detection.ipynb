{
 "cells": [
  {
   "cell_type": "code",
   "execution_count": null,
   "id": "afd44c7f",
   "metadata": {},
   "outputs": [],
   "source": [
    "import cv2\n",
    "import numpy as np\n",
    "import matplotlib.pyplot as plt"
   ]
  },
  {
   "cell_type": "code",
   "execution_count": null,
   "id": "7d974ee6",
   "metadata": {},
   "outputs": [],
   "source": [
    "black_pth = r\"C:\\Users\\kesha\\Downloads\\Color-Classifiation-main\\Color-Classifiation-main\\colors\\Black\"\n",
    "red_path = r\"C:\\Users\\kesha\\Downloads\\Color-Classifiation-main\\Color-Classifiation-main\\colors\\red\"\n",
    "test_path = r\"C:\\Users\\kesha\\Downloads\\Color-Classifiation-main\\Color-Classifiation-main\\colors\\test\"\n",
    "violet_path = r\"C:\\Users\\kesha\\Downloads\\Color-Classifiation-main\\Color-Classifiation-main\\colors\\Violet\""
   ]
  },
  {
   "cell_type": "code",
   "execution_count": null,
   "id": "21014155",
   "metadata": {},
   "outputs": [],
   "source": [
    "from glob import glob"
   ]
  },
  {
   "cell_type": "code",
   "execution_count": null,
   "id": "2e13a04c",
   "metadata": {},
   "outputs": [],
   "source": [
    "red_images = glob(red_path+'/*')"
   ]
  },
  {
   "cell_type": "code",
   "execution_count": null,
   "id": "f83761bd",
   "metadata": {},
   "outputs": [],
   "source": [
    "red_images"
   ]
  },
  {
   "cell_type": "code",
   "execution_count": null,
   "id": "d27f3204",
   "metadata": {},
   "outputs": [],
   "source": [
    "img = cv2.imread(red_images[0])\n",
    "\n",
    "hsv_img = cv2.cvtColor(img,cv2.COLOR_BGR2RGB)/255"
   ]
  },
  {
   "cell_type": "markdown",
   "id": "41d1d060",
   "metadata": {},
   "source": [
    "## plot "
   ]
  },
  {
   "cell_type": "raw",
   "id": "18cfa9dd",
   "metadata": {},
   "source": [
    "cv2.imshow('FRAME',img[:,:,:])\n",
    "cv2.waitKey(0)"
   ]
  },
  {
   "cell_type": "code",
   "execution_count": null,
   "id": "56252ec0",
   "metadata": {},
   "outputs": [],
   "source": [
    "min_val,max_val = np.array([0,175,20]),np.array([0,255,255])\n",
    "\n",
    "min_val2,max_val2 = np.array([15,170,20]),np.array([15,180,255])"
   ]
  },
  {
   "cell_type": "code",
   "execution_count": null,
   "id": "e9c84620",
   "metadata": {},
   "outputs": [],
   "source": [
    "mask1 = cv2.inRange(hsv_img,min_val,max_val)\n",
    "mask2 = cv2.inRange(hsv_img,min_val2,max_val2)\n",
    "\n",
    "mask = mask1+mask2"
   ]
  },
  {
   "cell_type": "code",
   "execution_count": null,
   "id": "0da20f6f",
   "metadata": {},
   "outputs": [],
   "source": [
    "ximg = cv2.bitwise_and(img,img,mask)"
   ]
  },
  {
   "cell_type": "code",
   "execution_count": null,
   "id": "764729a6",
   "metadata": {},
   "outputs": [],
   "source": [
    "cv2.imshow('x_mask',ximg)\n",
    "cv2.waitKey(0)"
   ]
  },
  {
   "cell_type": "code",
   "execution_count": null,
   "id": "3dc6041a",
   "metadata": {},
   "outputs": [],
   "source": [
    "import cv2 as cv\n",
    "import numpy as np\n",
    "\n",
    "#read the image\n",
    "img = cv.imread(red_images[0])\n",
    "#convert the BGR image to HSV colour space\n",
    "hsv = cv.cvtColor(img, cv.COLOR_BGR2HSV)\n",
    "#obtain the grayscale image of the original image\n",
    "gray = cv.cvtColor(img, cv.COLOR_BGR2GRAY)\n",
    "\n",
    "#set the bounds for the red hue\n",
    "lower_red = np.array([165,100,100])\n",
    "upper_red = np.array([185,100,100])\n",
    "\n",
    "#create a mask using the bounds set\n",
    "mask = cv.inRange(hsv, lower_red, upper_red)\n",
    "#create an inverse of the mask\n",
    "mask_inv = cv.bitwise_not(mask)\n",
    "#Filter only the red colour from the original image using the mask(foreground)\n",
    "res = cv.bitwise_and(img, img, mask=mask)\n",
    "#Filter the regions containing colours other than red from the grayscale image(background)\n",
    "background = cv.bitwise_and(gray, gray, mask = mask_inv)\n",
    "#convert the one channelled grayscale background to a three channelled image\n",
    "background = np.stack((background,)*3, axis=-1)\n",
    "#add the foreground and the background\n",
    "added_img = cv.add(res, background)\n",
    "\n",
    "#create resizable windows for the images\n",
    "cv.namedWindow(\"res\", cv.WINDOW_NORMAL)\n",
    "cv.namedWindow(\"hsv\", cv.WINDOW_NORMAL)\n",
    "cv.namedWindow(\"mask\", cv.WINDOW_NORMAL)\n",
    "cv.namedWindow(\"added\", cv.WINDOW_NORMAL)\n",
    "cv.namedWindow(\"back\", cv.WINDOW_NORMAL)\n",
    "cv.namedWindow(\"mask_inv\", cv.WINDOW_NORMAL)\n",
    "cv.namedWindow(\"gray\", cv.WINDOW_NORMAL)\n",
    "\n",
    "#display the images\n",
    "cv.imshow(\"back\", background)\n",
    "cv.imshow(\"mask_inv\", mask_inv)\n",
    "cv.imshow(\"added\",added_img)\n",
    "cv.imshow(\"mask\", mask)\n",
    "cv.imshow(\"gray\", gray)\n",
    "cv.imshow(\"hsv\", hsv)\n",
    "cv.imshow(\"res\", res)\n",
    "\n",
    "if cv.waitKey(0):\n",
    "    cv.destroyAllWindows()"
   ]
  },
  {
   "cell_type": "code",
   "execution_count": null,
   "id": "3e26181b",
   "metadata": {},
   "outputs": [],
   "source": [
    "h = hsv_img[:,:,0]\n",
    "s = hsv_img[:,:,1]\n",
    "v = hsv_img[:,:,2]"
   ]
  },
  {
   "cell_type": "code",
   "execution_count": null,
   "id": "81168c39",
   "metadata": {},
   "outputs": [],
   "source": [
    "plt.imshow(h)"
   ]
  },
  {
   "cell_type": "code",
   "execution_count": null,
   "id": "864ac5ae",
   "metadata": {},
   "outputs": [],
   "source": [
    "cv2.imshow('hue',h)"
   ]
  },
  {
   "cell_type": "code",
   "execution_count": null,
   "id": "e1473341",
   "metadata": {},
   "outputs": [],
   "source": [
    "cv2.imshow('x_mask',h)\n",
    "cv2.waitKey(0)"
   ]
  },
  {
   "cell_type": "code",
   "execution_count": null,
   "id": "401c43de",
   "metadata": {},
   "outputs": [],
   "source": [
    "h"
   ]
  },
  {
   "cell_type": "code",
   "execution_count": null,
   "id": "088a0345",
   "metadata": {},
   "outputs": [],
   "source": []
  }
 ],
 "metadata": {
  "kernelspec": {
   "display_name": "Python 3 (ipykernel)",
   "language": "python",
   "name": "python3"
  },
  "language_info": {
   "codemirror_mode": {
    "name": "ipython",
    "version": 3
   },
   "file_extension": ".py",
   "mimetype": "text/x-python",
   "name": "python",
   "nbconvert_exporter": "python",
   "pygments_lexer": "ipython3",
   "version": "3.10.2"
  }
 },
 "nbformat": 4,
 "nbformat_minor": 5
}
